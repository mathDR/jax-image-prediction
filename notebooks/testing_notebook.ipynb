{
 "cells": [
  {
   "cell_type": "markdown",
   "id": "2fa05f15",
   "metadata": {},
   "source": [
    "# Testing Notebook"
   ]
  },
  {
   "cell_type": "markdown",
   "id": "5ac44a47",
   "metadata": {},
   "source": [
    "## Imports"
   ]
  },
  {
   "cell_type": "code",
   "execution_count": 1,
   "id": "556e4078",
   "metadata": {},
   "outputs": [],
   "source": [
    "# %load ~/dev/marthaler/header.py\n",
    "%matplotlib inline\n",
    "%config InlineBackend.figure_format = 'retina'\n",
    "\n",
    "%load_ext autoreload\n",
    "%autoreload 2\n",
    "\n",
    "import matplotlib.pyplot as plt\n",
    "import numpy as np\n",
    "\n",
    "from dataclasses import dataclass\n",
    "from typing import Dict, Any, Tuple\n",
    "from datetime import datetime, timedelta\n",
    "\n",
    "import warnings\n",
    "\n",
    "plt.style.use(\"ggplot\")\n",
    "warnings.filterwarnings('ignore')\n",
    "\n",
    "from pandas.plotting import register_matplotlib_converters\n",
    "register_matplotlib_converters()\n",
    "\n",
    "plt.rc('figure', figsize=(16, 10))\n",
    "plt.rc('font', size=14)\n"
   ]
  },
  {
   "cell_type": "code",
   "execution_count": 2,
   "id": "d4da2bff",
   "metadata": {},
   "outputs": [],
   "source": [
    "import math\n",
    "\n",
    "import equinox as eqx\n",
    "import jax\n",
    "from jax import vmap\n",
    "import jax.lax as lax\n",
    "import jax.numpy as jnp\n",
    "import jax.random as jrandom\n",
    "import numpy as np\n",
    "import optax  # https://github.com/deepmind/optax\n",
    "import torch"
   ]
  },
  {
   "cell_type": "code",
   "execution_count": 3,
   "id": "484e4992",
   "metadata": {},
   "outputs": [],
   "source": [
    "from jaxtyping import Array, Float, Int, PyTree  # https://github.com/google/jaxtyping"
   ]
  },
  {
   "cell_type": "code",
   "execution_count": 5,
   "id": "317e45ed",
   "metadata": {},
   "outputs": [],
   "source": [
    "from typing import Sequence, Union"
   ]
  },
  {
   "cell_type": "code",
   "execution_count": 4,
   "id": "ca4c4123",
   "metadata": {},
   "outputs": [
    {
     "name": "stdout",
     "output_type": "stream",
     "text": [
      "cpu\n"
     ]
    }
   ],
   "source": [
    "from jax.lib import xla_bridge\n",
    "print(xla_bridge.get_backend().platform)"
   ]
  },
  {
   "cell_type": "markdown",
   "id": "968b6a8c",
   "metadata": {},
   "source": [
    "## Functions"
   ]
  },
  {
   "cell_type": "code",
   "execution_count": 6,
   "id": "fa03de14",
   "metadata": {},
   "outputs": [],
   "source": [
    "def shift_image(\n",
    "    img: np.ndarray[np.uint8],\n",
    "    horizontal_shift: int,\n",
    "    vertical_shift: int,\n",
    ")->np.ndarray[np.uint8]:\n",
    "    \"\"\"\n",
    "      Function to shift an image by fixed numbers of pixels and fill in with 0.\n",
    "      \n",
    "      The image origin in numpy are at the top-left corner so to get a positive\n",
    "      vertical shift, we need to negate the vertical shift value passed in.\n",
    "      \n",
    "      :param img: The input image\n",
    "      :type img: np.ndarray[np.uint8]\n",
    "      :param horizontal_shift: the number of pixels to shift horizontally\n",
    "      :type horizontal_shift: int\n",
    "      :param vertical_shift: the number of pixels to shift vertically\n",
    "      :type vertical_shift: int\n",
    "      :return: The shifted image\n",
    "      :rtype: np.ndarray[np.uint8]\n",
    "    \"\"\"\n",
    "    # Negate the vertical shift to compensate for the origin at the top-left of image\n",
    "    vertical_shift = -vertical_shift\n",
    "    shift_img = np.roll(img, vertical_shift, axis=0)\n",
    "    shift_img = np.roll(shift_img, horizontal_shift, axis=1)\n",
    "    if vertical_shift>0:\n",
    "        shift_img[:vertical_shift, :] = 0\n",
    "    elif vertical_shift<0:\n",
    "        shift_img[vertical_shift:, :] = 0\n",
    "    if horizontal_shift>0:\n",
    "        shift_img[:, :horizontal_shift] = 0\n",
    "    elif horizontal_shift<0:\n",
    "        shift_img[:, horizontal_shift:] = 0\n",
    "    return shift_img"
   ]
  },
  {
   "cell_type": "code",
   "execution_count": 11,
   "id": "2aa84b6e",
   "metadata": {},
   "outputs": [],
   "source": [
    "from einops import rearrange\n",
    "\n",
    "#x = jnp.arange(5 * 8 * 8 * 3).reshape(5, 8, 8, 3)\n",
    "#pixel_shuffle(x) = print(x.shape) # (5, 4, 4, 12)\n",
    "# pixel_unshuffle(pixel_shuffle(x)) = print(x.shape) # (5, 8, 8, 3)\n",
    "\n",
    "# Space to depth\n",
    "def pixel_shuffle(x: Float[Array, '...']):\n",
    "    \"\"\"Performs the pytorch PixelShuffle function.\n",
    "      This implementation was taken from a \n",
    "      [discussion](https://github.com/google/flax/discussions/2899) in flax\n",
    "    \"\"\"\n",
    "    return rearrange(x, '... (h b1) (w b2) c -> ... h w (c b1 b2)', b1=2, b2=2)\n",
    "\n",
    "\n",
    "# Depth to space\n",
    "def pixel_unshuffle(x: Float[Array, '...']):\n",
    "    \"\"\"Performs the pytorch PixelUnShuffle function.\n",
    "      This implementation was taken from a \n",
    "      [discussion](https://github.com/google/flax/discussions/2899) in flax\n",
    "    \"\"\"\n",
    "    return rearrange(x, '... h w (c b1 b2) -> ... (h b1) (w b2) c', b1=2, b2=2)\n"
   ]
  },
  {
   "cell_type": "code",
   "execution_count": 160,
   "id": "9fd285fa",
   "metadata": {},
   "outputs": [],
   "source": [
    "class BasicConv2d(eqx.Module):\n",
    "    act_norm: bool\n",
    "    conv: list\n",
    "    norm: eqx.nn.GroupNorm\n",
    "    act: jax.nn.silu\n",
    "\n",
    "    def __init__(\n",
    "        self,\n",
    "        key: jax.random.PRNGKey,\n",
    "        in_channels: int,\n",
    "        out_channels: int,\n",
    "        kernel_size: Union[int, Sequence[int]]=3,\n",
    "        stride: Union[int, Sequence[int]]=1,\n",
    "        padding: Union[str, int, Sequence[int]]=0,\n",
    "        dilation: Union[str, int, Sequence[int]]=1,\n",
    "        upsampling: bool=False,\n",
    "        act_norm: bool=False,\n",
    "        act_inplace: bool=True,\n",
    "    )->None:\n",
    "        super(BasicConv2d, self).__init__()\n",
    "        self.act_norm = act_norm\n",
    "        if upsampling is True:\n",
    "            self.conv = eqx.nn.Sequential([*[\n",
    "                eqx.nn.Conv2d(in_channels, out_channels*4, kernel_size=kernel_size,\n",
    "                          stride=1, padding=padding, dilation=dilation, key=key),\n",
    "                pixel_shuffle\n",
    "            ]])\n",
    "        else:\n",
    "            self.conv = eqx.nn.Conv2d(\n",
    "                in_channels, out_channels, kernel_size=kernel_size,\n",
    "                stride=stride, padding=padding, dilation=dilation,key=key)\n",
    "            \n",
    "        self.norm = eqx.nn.GroupNorm(2, out_channels)\n",
    "        self.act = jax.nn.silu\n",
    "\n",
    "        #self.apply(self._init_weights)\n",
    "\n",
    "#     def _init_weights(self, m):\n",
    "#         if isinstance(m, (eqx.nn.Conv2d)):\n",
    "#             m.weight = jax.nn.initializers.truncated_normal(m.weight, stddev=.02, lower=-2.0, upper=2.0)\n",
    "#             m.bias = jax.nn.initializers.constant(m.bias.shape, 0)\n",
    "        \n",
    "    def __call__(self, x):\n",
    "        y = self.conv(x)\n",
    "        if self.act_norm:\n",
    "            y = self.act(self.norm(y))\n",
    "        return y\n"
   ]
  },
  {
   "cell_type": "code",
   "execution_count": 161,
   "id": "3a4f9686",
   "metadata": {},
   "outputs": [],
   "source": [
    "SEED = 5678\n",
    "\n",
    "key = jax.random.PRNGKey(SEED)"
   ]
  },
  {
   "cell_type": "code",
   "execution_count": 162,
   "id": "fff54074",
   "metadata": {},
   "outputs": [],
   "source": [
    "class ConvSC(eqx.Module):\n",
    "    conv: eqx.nn.Conv\n",
    "    def __init__(\n",
    "        self,\n",
    "        key: jax.random.PRNGKey,\n",
    "        C_in: int,\n",
    "        C_out: int,\n",
    "        kernel_size: int=3,\n",
    "        downsampling=False,\n",
    "        upsampling=False,\n",
    "        act_norm: bool=True\n",
    "    )->None:\n",
    "        super(ConvSC, self).__init__()\n",
    "\n",
    "        stride = 2 if downsampling is True else 1\n",
    "        padding = (kernel_size - stride + 1) // 2\n",
    "\n",
    "        self.conv = BasicConv2d(\n",
    "            key,\n",
    "            C_in, \n",
    "            C_out, \n",
    "            kernel_size=kernel_size, \n",
    "            stride=stride,\n",
    "            upsampling=upsampling,\n",
    "            padding=padding,\n",
    "            act_norm=act_norm\n",
    "        )\n",
    "\n",
    "    def __call__(self, x):\n",
    "        y = self.conv(x)\n",
    "        return y"
   ]
  },
  {
   "cell_type": "code",
   "execution_count": 163,
   "id": "92ac0e26",
   "metadata": {},
   "outputs": [],
   "source": [
    "from jaxtyping import Array, Float, Int, PyTree  # https://github.com/google/jaxtyping\n",
    "def sampling_generator(N:int, reverse:bool=False)->list:\n",
    "    samplings = [False, True] * (N // 2)\n",
    "    if reverse: \n",
    "        return list(reversed(samplings[:N]))\n",
    "    else: \n",
    "        return samplings[:N]\n",
    "\n",
    "class Encoder(eqx.Module):\n",
    "    \"\"\"3D Encoder for SimVP\"\"\"\n",
    "    enc: list\n",
    "\n",
    "    def __init__(\n",
    "        self,\n",
    "        key: jax.random.PRNGKey,\n",
    "        C_in: int,\n",
    "        C_hid: int, \n",
    "        N_S: int, \n",
    "        spatio_kernel: int,\n",
    "    )->None:\n",
    "        super(Encoder, self).__init__()\n",
    "        samplings = sampling_generator(N_S)\n",
    "        keys = jax.random.split(key, N_S)\n",
    "        self.enc = eqx.nn.Sequential([\n",
    "              ConvSC(keys[0], C_in, C_hid, spatio_kernel, downsampling=samplings[0],),\n",
    "            *[ConvSC(k,C_hid, C_hid, spatio_kernel, downsampling=s) for k,s in zip(keys[1:],samplings[1:])]\n",
    "        ]\n",
    "        )\n",
    "        \n",
    "    def __call__(self, x: Float[Array, \"1 64 64\"])->Float[Array, \"1 16 16\"]:\n",
    "        enc1 = self.enc[0](x)\n",
    "        latent = enc1\n",
    "        for i in range(1, len(self.enc)):\n",
    "            latent = self.enc[i](latent)\n",
    "        return latent, enc1"
   ]
  },
  {
   "cell_type": "code",
   "execution_count": 164,
   "id": "18d5eff0",
   "metadata": {},
   "outputs": [],
   "source": [
    "hid_S=16\n",
    "hid_T=256\n",
    "N_S=4\n",
    "N_T=4"
   ]
  },
  {
   "cell_type": "code",
   "execution_count": 165,
   "id": "e8258444",
   "metadata": {},
   "outputs": [
    {
     "data": {
      "text/plain": [
       "[10, 1, 64, 64]"
      ]
     },
     "execution_count": 165,
     "metadata": {},
     "output_type": "execute_result"
    }
   ],
   "source": [
    "in_shape"
   ]
  },
  {
   "cell_type": "code",
   "execution_count": 166,
   "id": "ec8c951c",
   "metadata": {},
   "outputs": [],
   "source": [
    "T, C, H, W = tuple(in_shape)\n",
    "enc = Encoder(key, C, hid_S, N_S, 3)"
   ]
  },
  {
   "cell_type": "code",
   "execution_count": 167,
   "id": "d7435556",
   "metadata": {},
   "outputs": [],
   "source": [
    "B, T, C, H, W = x_batch.shape\n",
    "x = x_batch.reshape(B*T, C, H, W)"
   ]
  },
  {
   "cell_type": "code",
   "execution_count": 168,
   "id": "eaf39713",
   "metadata": {},
   "outputs": [],
   "source": [
    "embed = vmap(enc)(x)"
   ]
  },
  {
   "cell_type": "code",
   "execution_count": 169,
   "id": "1520bd04",
   "metadata": {},
   "outputs": [
    {
     "data": {
      "text/plain": [
       "((160, 16, 16, 16), (160, 16, 64, 64))"
      ]
     },
     "execution_count": 169,
     "metadata": {},
     "output_type": "execute_result"
    }
   ],
   "source": [
    "embed[0].shape, embed[1].shape"
   ]
  },
  {
   "cell_type": "code",
   "execution_count": 170,
   "id": "26a2a7d8",
   "metadata": {},
   "outputs": [],
   "source": [
    "class Decoder(eqx.Module):\n",
    "    \"\"\"3D Decoder for SimVP\"\"\"\n",
    "    readout: eqx.nn.Conv2d\n",
    "    dec: list\n",
    "\n",
    "    def __init__(\n",
    "        self,\n",
    "        key: jax.random.PRNGKey,\n",
    "        C_hid: int,\n",
    "        C_out: int, \n",
    "        N_S: int,\n",
    "        spatio_kernel: int,\n",
    "    )->None:\n",
    "        super(Decoder, self).__init__()\n",
    "        samplings = sampling_generator(N_S, reverse=True)\n",
    "        keys = jax.random.split(key, N_S+1)\n",
    "        self.dec = eqx.nn.Sequential([\n",
    "            *[ConvSC(k, C_hid, C_hid, spatio_kernel, upsampling=s,) for k,s in zip(keys[:-2],samplings[:-1])],\n",
    "              ConvSC(keys[-2],C_hid, C_hid, spatio_kernel, upsampling=samplings[-1])\n",
    "        ])\n",
    "\n",
    "        self.readout = eqx.nn.Conv2d(C_hid, C_out, 1, key=keys[-1],)\n",
    "\n",
    "    def __call__(self, hid, enc1=None):\n",
    "        for i in range(0, len(self.dec)-1):\n",
    "            hid = self.dec[i](hid)\n",
    "        Y = self.dec[-1](hid+enc1)\n",
    "        return self.readout(Y)"
   ]
  },
  {
   "cell_type": "code",
   "execution_count": 171,
   "id": "22b1a9ec",
   "metadata": {},
   "outputs": [],
   "source": [
    "dec = Decoder(key, hid_S, C, N_S, 3)"
   ]
  },
  {
   "cell_type": "code",
   "execution_count": 174,
   "id": "2ef36e35",
   "metadata": {},
   "outputs": [
    {
     "ename": "AttributeError",
     "evalue": "'tuple' object has no attribute 'ndim'",
     "output_type": "error",
     "traceback": [
      "\u001b[0;31m---------------------------------------------------------------------------\u001b[0m",
      "\u001b[0;31mAttributeError\u001b[0m                            Traceback (most recent call last)",
      "Cell \u001b[0;32mIn[174], line 1\u001b[0m\n\u001b[0;32m----> 1\u001b[0m \u001b[43mvmap\u001b[49m\u001b[43m(\u001b[49m\u001b[43mdec\u001b[49m\u001b[43m)\u001b[49m\u001b[43m(\u001b[49m\u001b[43membed\u001b[49m\u001b[43m)\u001b[49m\n",
      "    \u001b[0;31m[... skipping hidden 3 frame]\u001b[0m\n",
      "Cell \u001b[0;32mIn[170], line 26\u001b[0m, in \u001b[0;36mDecoder.__call__\u001b[0;34m(self, hid, enc1)\u001b[0m\n\u001b[1;32m     24\u001b[0m \u001b[38;5;28;01mdef\u001b[39;00m \u001b[38;5;21m__call__\u001b[39m(\u001b[38;5;28mself\u001b[39m, hid, enc1\u001b[38;5;241m=\u001b[39m\u001b[38;5;28;01mNone\u001b[39;00m):\n\u001b[1;32m     25\u001b[0m     \u001b[38;5;28;01mfor\u001b[39;00m i \u001b[38;5;129;01min\u001b[39;00m \u001b[38;5;28mrange\u001b[39m(\u001b[38;5;241m0\u001b[39m, \u001b[38;5;28mlen\u001b[39m(\u001b[38;5;28mself\u001b[39m\u001b[38;5;241m.\u001b[39mdec)\u001b[38;5;241m-\u001b[39m\u001b[38;5;241m1\u001b[39m):\n\u001b[0;32m---> 26\u001b[0m         hid \u001b[38;5;241m=\u001b[39m \u001b[38;5;28;43mself\u001b[39;49m\u001b[38;5;241;43m.\u001b[39;49m\u001b[43mdec\u001b[49m\u001b[43m[\u001b[49m\u001b[43mi\u001b[49m\u001b[43m]\u001b[49m\u001b[43m(\u001b[49m\u001b[43mhid\u001b[49m\u001b[43m)\u001b[49m\n\u001b[1;32m     27\u001b[0m     Y \u001b[38;5;241m=\u001b[39m \u001b[38;5;28mself\u001b[39m\u001b[38;5;241m.\u001b[39mdec[\u001b[38;5;241m-\u001b[39m\u001b[38;5;241m1\u001b[39m](hid\u001b[38;5;241m+\u001b[39menc1)\n\u001b[1;32m     28\u001b[0m     \u001b[38;5;28;01mreturn\u001b[39;00m \u001b[38;5;28mself\u001b[39m\u001b[38;5;241m.\u001b[39mreadout(Y)\n",
      "Cell \u001b[0;32mIn[162], line 30\u001b[0m, in \u001b[0;36mConvSC.__call__\u001b[0;34m(self, x)\u001b[0m\n\u001b[1;32m     29\u001b[0m \u001b[38;5;28;01mdef\u001b[39;00m \u001b[38;5;21m__call__\u001b[39m(\u001b[38;5;28mself\u001b[39m, x):\n\u001b[0;32m---> 30\u001b[0m     y \u001b[38;5;241m=\u001b[39m \u001b[38;5;28;43mself\u001b[39;49m\u001b[38;5;241;43m.\u001b[39;49m\u001b[43mconv\u001b[49m\u001b[43m(\u001b[49m\u001b[43mx\u001b[49m\u001b[43m)\u001b[49m\n\u001b[1;32m     31\u001b[0m     \u001b[38;5;28;01mreturn\u001b[39;00m y\n",
      "Cell \u001b[0;32mIn[160], line 44\u001b[0m, in \u001b[0;36mBasicConv2d.__call__\u001b[0;34m(self, x)\u001b[0m\n\u001b[1;32m     43\u001b[0m \u001b[38;5;28;01mdef\u001b[39;00m \u001b[38;5;21m__call__\u001b[39m(\u001b[38;5;28mself\u001b[39m, x):\n\u001b[0;32m---> 44\u001b[0m     y \u001b[38;5;241m=\u001b[39m \u001b[38;5;28;43mself\u001b[39;49m\u001b[38;5;241;43m.\u001b[39;49m\u001b[43mconv\u001b[49m\u001b[43m(\u001b[49m\u001b[43mx\u001b[49m\u001b[43m)\u001b[49m\n\u001b[1;32m     45\u001b[0m     \u001b[38;5;28;01mif\u001b[39;00m \u001b[38;5;28mself\u001b[39m\u001b[38;5;241m.\u001b[39mact_norm:\n\u001b[1;32m     46\u001b[0m         y \u001b[38;5;241m=\u001b[39m \u001b[38;5;28mself\u001b[39m\u001b[38;5;241m.\u001b[39mact(\u001b[38;5;28mself\u001b[39m\u001b[38;5;241m.\u001b[39mnorm(y))\n",
      "File \u001b[0;32m~/.pyenv/versions/3.11.1/lib/python3.11/contextlib.py:81\u001b[0m, in \u001b[0;36mContextDecorator.__call__.<locals>.inner\u001b[0;34m(*args, **kwds)\u001b[0m\n\u001b[1;32m     78\u001b[0m \u001b[38;5;129m@wraps\u001b[39m(func)\n\u001b[1;32m     79\u001b[0m \u001b[38;5;28;01mdef\u001b[39;00m \u001b[38;5;21minner\u001b[39m(\u001b[38;5;241m*\u001b[39margs, \u001b[38;5;241m*\u001b[39m\u001b[38;5;241m*\u001b[39mkwds):\n\u001b[1;32m     80\u001b[0m     \u001b[38;5;28;01mwith\u001b[39;00m \u001b[38;5;28mself\u001b[39m\u001b[38;5;241m.\u001b[39m_recreate_cm():\n\u001b[0;32m---> 81\u001b[0m         \u001b[38;5;28;01mreturn\u001b[39;00m \u001b[43mfunc\u001b[49m\u001b[43m(\u001b[49m\u001b[38;5;241;43m*\u001b[39;49m\u001b[43margs\u001b[49m\u001b[43m,\u001b[49m\u001b[43m \u001b[49m\u001b[38;5;241;43m*\u001b[39;49m\u001b[38;5;241;43m*\u001b[39;49m\u001b[43mkwds\u001b[49m\u001b[43m)\u001b[49m\n",
      "File \u001b[0;32m~/.pyenv/versions/3.11.1/envs/pilco/lib/python3.11/site-packages/equinox/nn/_sequential.py:107\u001b[0m, in \u001b[0;36mSequential.__call__\u001b[0;34m(self, x, state, key)\u001b[0m\n\u001b[1;32m    105\u001b[0m         x, state \u001b[38;5;241m=\u001b[39m layer(x, state\u001b[38;5;241m=\u001b[39mstate, key\u001b[38;5;241m=\u001b[39mkey)\n\u001b[1;32m    106\u001b[0m     \u001b[38;5;28;01melse\u001b[39;00m:\n\u001b[0;32m--> 107\u001b[0m         x \u001b[38;5;241m=\u001b[39m \u001b[43mlayer\u001b[49m\u001b[43m(\u001b[49m\u001b[43mx\u001b[49m\u001b[43m,\u001b[49m\u001b[43m \u001b[49m\u001b[43mkey\u001b[49m\u001b[38;5;241;43m=\u001b[39;49m\u001b[43mkey\u001b[49m\u001b[43m)\u001b[49m\n\u001b[1;32m    108\u001b[0m \u001b[38;5;28;01mif\u001b[39;00m state \u001b[38;5;129;01mis\u001b[39;00m sentinel:\n\u001b[1;32m    109\u001b[0m     \u001b[38;5;28;01mreturn\u001b[39;00m x\n",
      "File \u001b[0;32m~/.pyenv/versions/3.11.1/lib/python3.11/contextlib.py:81\u001b[0m, in \u001b[0;36mContextDecorator.__call__.<locals>.inner\u001b[0;34m(*args, **kwds)\u001b[0m\n\u001b[1;32m     78\u001b[0m \u001b[38;5;129m@wraps\u001b[39m(func)\n\u001b[1;32m     79\u001b[0m \u001b[38;5;28;01mdef\u001b[39;00m \u001b[38;5;21minner\u001b[39m(\u001b[38;5;241m*\u001b[39margs, \u001b[38;5;241m*\u001b[39m\u001b[38;5;241m*\u001b[39mkwds):\n\u001b[1;32m     80\u001b[0m     \u001b[38;5;28;01mwith\u001b[39;00m \u001b[38;5;28mself\u001b[39m\u001b[38;5;241m.\u001b[39m_recreate_cm():\n\u001b[0;32m---> 81\u001b[0m         \u001b[38;5;28;01mreturn\u001b[39;00m \u001b[43mfunc\u001b[49m\u001b[43m(\u001b[49m\u001b[38;5;241;43m*\u001b[39;49m\u001b[43margs\u001b[49m\u001b[43m,\u001b[49m\u001b[43m \u001b[49m\u001b[38;5;241;43m*\u001b[39;49m\u001b[38;5;241;43m*\u001b[39;49m\u001b[43mkwds\u001b[49m\u001b[43m)\u001b[49m\n",
      "File \u001b[0;32m~/.pyenv/versions/3.11.1/envs/pilco/lib/python3.11/site-packages/equinox/nn/_conv.py:239\u001b[0m, in \u001b[0;36mConv.__call__\u001b[0;34m(self, x, key)\u001b[0m\n\u001b[1;32m    226\u001b[0m \u001b[38;5;250m\u001b[39m\u001b[38;5;124;03m\"\"\"**Arguments:**\u001b[39;00m\n\u001b[1;32m    227\u001b[0m \n\u001b[1;32m    228\u001b[0m \u001b[38;5;124;03m- `x`: The input. Should be a JAX array of shape\u001b[39;00m\n\u001b[0;32m   (...)\u001b[0m\n\u001b[1;32m    235\u001b[0m \u001b[38;5;124;03mA JAX array of shape `(out_channels, new_dim_1, ..., new_dim_N)`.\u001b[39;00m\n\u001b[1;32m    236\u001b[0m \u001b[38;5;124;03m\"\"\"\u001b[39;00m\n\u001b[1;32m    238\u001b[0m unbatched_rank \u001b[38;5;241m=\u001b[39m \u001b[38;5;28mself\u001b[39m\u001b[38;5;241m.\u001b[39mnum_spatial_dims \u001b[38;5;241m+\u001b[39m \u001b[38;5;241m1\u001b[39m\n\u001b[0;32m--> 239\u001b[0m \u001b[38;5;28;01mif\u001b[39;00m \u001b[43mx\u001b[49m\u001b[38;5;241;43m.\u001b[39;49m\u001b[43mndim\u001b[49m \u001b[38;5;241m!=\u001b[39m unbatched_rank:\n\u001b[1;32m    240\u001b[0m     \u001b[38;5;28;01mraise\u001b[39;00m \u001b[38;5;167;01mValueError\u001b[39;00m(\n\u001b[1;32m    241\u001b[0m         \u001b[38;5;124mf\u001b[39m\u001b[38;5;124m\"\u001b[39m\u001b[38;5;124mInput to `Conv` needs to have rank \u001b[39m\u001b[38;5;132;01m{\u001b[39;00munbatched_rank\u001b[38;5;132;01m}\u001b[39;00m\u001b[38;5;124m,\u001b[39m\u001b[38;5;124m\"\u001b[39m,\n\u001b[1;32m    242\u001b[0m         \u001b[38;5;124mf\u001b[39m\u001b[38;5;124m\"\u001b[39m\u001b[38;5;124m but input has shape \u001b[39m\u001b[38;5;132;01m{\u001b[39;00mx\u001b[38;5;241m.\u001b[39mshape\u001b[38;5;132;01m}\u001b[39;00m\u001b[38;5;124m.\u001b[39m\u001b[38;5;124m\"\u001b[39m,\n\u001b[1;32m    243\u001b[0m     )\n\u001b[1;32m    245\u001b[0m \u001b[38;5;28;01mif\u001b[39;00m \u001b[38;5;28mself\u001b[39m\u001b[38;5;241m.\u001b[39mpadding_mode \u001b[38;5;241m!=\u001b[39m \u001b[38;5;124m\"\u001b[39m\u001b[38;5;124mZEROS\u001b[39m\u001b[38;5;124m\"\u001b[39m:\n",
      "\u001b[0;31mAttributeError\u001b[0m: 'tuple' object has no attribute 'ndim'"
     ]
    }
   ],
   "source": [
    "vmap(dec)(embed)"
   ]
  },
  {
   "cell_type": "code",
   "execution_count": 32,
   "id": "76769ad3",
   "metadata": {},
   "outputs": [],
   "source": [
    "class ExactDecoder(eqx.Module):\n",
    "    readout: eqx.nn.Conv2d\n",
    "    dec: list\n",
    "\n",
    "    def __init__(\n",
    "        self,\n",
    "        num_features: int,\n",
    "        num_out_features: int,\n",
    "        num_layers: int,\n",
    "        enc: Encoder\n",
    "    )->None:\n",
    "        super(ExactDecoder, self).__init__()\n",
    "        cnn_t = eqx.nn.ConvTranspose2d(num_features, num_features, kernel_size=3, key=key, stride=2, padding=1, output_padding=1)\n",
    "        cnn_t = eqx.tree_at(\n",
    "            lambda x: x.weight, cnn_t, jnp.flip(\n",
    "                enc.enc[-1].weight,axis=tuple(range(2, enc.enc[-1].weight.ndim))\n",
    "            ).swapaxes(0, 1)\n",
    "        )\n",
    "        self.dec = [cnn_t]\n",
    "        for i in range(1,num_layers-1):\n",
    "            cnn_t = eqx.nn.ConvTranspose2d(num_features, num_features, kernel_size=3, stride=2, key=keys[i], padding=1, output_padding=1)\n",
    "            cnn_t = eqx.tree_at(\n",
    "                lambda x: x.weight, cnn_t, jnp.flip(\n",
    "                    enc.enc[-1-i].weight,axis=tuple(range(2, enc.enc[-1-i].weight.ndim))\n",
    "                ).swapaxes(0, 1)\n",
    "            )\n",
    "            self.dec.append(cnn_t)\n",
    "\n",
    "        self.readout = eqx.nn.ConvTranspose2d(num_features, num_out_features,kernel_size=3, stride=2, key=keys[-1], padding=1, output_padding=1)\n",
    "        self.readout = eqx.tree_at(lambda x: x.weight, self.readout, jnp.flip(enc.enc[0].weight,axis=tuple(range(2, enc.enc[0].weight.ndim))).swapaxes(0, 1))\n",
    "    def __call__(self, hid, enc1=None):\n",
    "        for i in range(0, len(self.dec)):\n",
    "            hid = self.dec[i](hid)\n",
    "        return self.readout(hid)"
   ]
  },
  {
   "cell_type": "code",
   "execution_count": 33,
   "id": "aae11fd6",
   "metadata": {},
   "outputs": [],
   "source": [
    "class SimVP(eqx.Module):\n",
    "    enc: Encoder\n",
    "    dec: Decoder\n",
    "    def __init__(\n",
    "        self,\n",
    "        shape_in,\n",
    "        key: jax.random.PRNGKey,\n",
    "        hid_S: int=16,\n",
    "        num_layers: int=4,\n",
    "    ):\n",
    "        super(SimVP, self).__init__()\n",
    "        T, C, H, W = shape_in\n",
    "        keys = jax.random.split(key, 2)\n",
    "        self.enc = Encoder(C, hid_S, num_layers, keys[0])\n",
    "        self.dec = Decoder(hid_S, C, num_layers, keys[1])\n",
    "\n",
    "\n",
    "\n",
    "    def __call__(self, x_raw):\n",
    "        B, T, C, H, W = x_raw.shape\n",
    "        x = x_raw.reshape(B*T, C, H, W)\n",
    "\n",
    "        embed = vmap(self.enc)(x)\n",
    "        return vmap(self.dec)(embed).reshape(B, T, C, H, W)"
   ]
  },
  {
   "cell_type": "markdown",
   "id": "c83d5d6e",
   "metadata": {},
   "source": [
    "## Load Image Data"
   ]
  },
  {
   "cell_type": "code",
   "execution_count": 16,
   "id": "8eb8d00d",
   "metadata": {},
   "outputs": [],
   "source": [
    "imgs = np.load('/Users/daniel.marthaler/dev/SimVP/data/moving_mnist/mnist_test_seq.npy')"
   ]
  },
  {
   "cell_type": "code",
   "execution_count": 17,
   "id": "3ef703f1",
   "metadata": {},
   "outputs": [
    {
     "data": {
      "text/plain": [
       "(20, 10000, 64, 64)"
      ]
     },
     "execution_count": 17,
     "metadata": {},
     "output_type": "execute_result"
    }
   ],
   "source": [
    "imgs.shape"
   ]
  },
  {
   "cell_type": "code",
   "execution_count": 18,
   "id": "07de2176",
   "metadata": {},
   "outputs": [
    {
     "data": {
      "text/plain": [
       "(numpy.ndarray, numpy.uint8)"
      ]
     },
     "execution_count": 18,
     "metadata": {},
     "output_type": "execute_result"
    }
   ],
   "source": [
    "type(imgs[0,0,:,:]), type(imgs[0,0,0,0])"
   ]
  },
  {
   "cell_type": "code",
   "execution_count": 15,
   "id": "fd0f71a8",
   "metadata": {},
   "outputs": [],
   "source": [
    "#plt.imshow(imgs[0,0,:,:]);"
   ]
  },
  {
   "cell_type": "code",
   "execution_count": 16,
   "id": "62d7724d",
   "metadata": {},
   "outputs": [],
   "source": [
    "# Shift image\n",
    "#plt.imshow(shift_image(imgs[0,0,:,:],-20,10));"
   ]
  },
  {
   "cell_type": "markdown",
   "id": "bacd33f4",
   "metadata": {},
   "source": [
    "## Parameters"
   ]
  },
  {
   "cell_type": "code",
   "execution_count": 21,
   "id": "4fac3d80",
   "metadata": {},
   "outputs": [],
   "source": [
    "seed = 42\n",
    "batch_size = 16\n",
    "val_batch_size=16\n",
    "num_workers=8\n",
    "\n",
    "# model parameters\n",
    "in_shape=[10, 1, 64, 64]  \n",
    "hid_S=64\n",
    "hid_T=256\n",
    "num_layers=3\n",
    "N_T=8\n",
    "groups=4\n",
    "\n",
    "# Training parameters\n",
    "epochs=1000\n",
    "log_step=1\n",
    "lr=0.01"
   ]
  },
  {
   "cell_type": "code",
   "execution_count": 22,
   "id": "d791a3e4",
   "metadata": {},
   "outputs": [],
   "source": [
    "# Hyperparameters\n",
    "\n",
    "BATCH_SIZE = 64\n",
    "LEARNING_RATE = 3e-4\n",
    "STEPS = 300\n",
    "PRINT_EVERY = 30\n",
    "SEED = 5678\n",
    "\n",
    "key = jax.random.PRNGKey(SEED)"
   ]
  },
  {
   "cell_type": "markdown",
   "id": "05304e02",
   "metadata": {},
   "source": [
    "## Model"
   ]
  },
  {
   "cell_type": "code",
   "execution_count": 19,
   "id": "c98dc3ee",
   "metadata": {},
   "outputs": [],
   "source": [
    "from dataloader_moving_mnist import load_data"
   ]
  },
  {
   "cell_type": "code",
   "execution_count": 34,
   "id": "c053ffb0",
   "metadata": {},
   "outputs": [],
   "source": [
    "model = SimVP(tuple(in_shape), key, hid_S, num_layers)"
   ]
  },
  {
   "cell_type": "code",
   "execution_count": 23,
   "id": "dae6d616",
   "metadata": {},
   "outputs": [],
   "source": [
    "train_loader, vali_loader, test_loader, data_mean, data_std = load_data(\n",
    "    batch_size,\n",
    "    val_batch_size,\n",
    "    '/Users/daniel.marthaler/dev/SimVP/data',\n",
    "    num_workers\n",
    ")"
   ]
  },
  {
   "cell_type": "code",
   "execution_count": 35,
   "id": "78baba9c",
   "metadata": {},
   "outputs": [],
   "source": [
    "def compute_loss(model, x, y):\n",
    "    pred_y = model(x)\n",
    "    # Trains with respect to huber loss\n",
    "    return optax.losses.huber_loss(pred_y, y).sum()\n",
    "loss = eqx.filter_jit(compute_loss)"
   ]
  },
  {
   "cell_type": "code",
   "execution_count": 36,
   "id": "ab34ffde",
   "metadata": {},
   "outputs": [],
   "source": [
    "def evaluate(model: SimVP, testloader: torch.utils.data.DataLoader):\n",
    "    \"\"\"This function evaluates the model on the test dataset,\n",
    "    computing both the average loss and the average accuracy.\n",
    "    \"\"\"\n",
    "    avg_loss = 0\n",
    "    for x, y in testloader:\n",
    "        x = x.numpy()\n",
    "        y = y.numpy()\n",
    "        # Note that all the JAX operations happen inside `loss` and `compute_accuracy`,\n",
    "        # and both have JIT wrappers, so this is fast.\n",
    "        avg_loss += loss(model, x, y)\n",
    "    return avg_loss / len(testloader)"
   ]
  },
  {
   "cell_type": "code",
   "execution_count": 37,
   "id": "3f1b5f5c",
   "metadata": {},
   "outputs": [],
   "source": [
    "#evaluate(model, test_loader)"
   ]
  },
  {
   "cell_type": "code",
   "execution_count": 38,
   "id": "6db7d2b9",
   "metadata": {},
   "outputs": [],
   "source": [
    "optim = optax.adamw(LEARNING_RATE)"
   ]
  },
  {
   "cell_type": "code",
   "execution_count": 41,
   "id": "a0176350",
   "metadata": {},
   "outputs": [],
   "source": [
    "def train(\n",
    "    model: SimVP,\n",
    "    trainloader: torch.utils.data.DataLoader,\n",
    "    testloader: torch.utils.data.DataLoader,\n",
    "    optim: optax.GradientTransformation,\n",
    "    steps: int,\n",
    "    print_every: int,\n",
    ") -> SimVP:\n",
    "    # Just like earlier: It only makes sense to train the arrays in our model,\n",
    "    # so filter out everything else.\n",
    "    opt_state = optim.init(eqx.filter(model, eqx.is_array))\n",
    "\n",
    "    # Always wrap everything -- computing gradients, running the optimiser, updating\n",
    "    # the model -- into a single JIT region. This ensures things run as fast as\n",
    "    # possible.\n",
    "    @eqx.filter_jit\n",
    "    def make_step(\n",
    "        model: SimVP,\n",
    "        opt_state: PyTree,\n",
    "        x: Float[Array, \"batch 10 1 64 64\"],\n",
    "        y: Float[Array, \"batch 10 1 64 64\"],\n",
    "    ):\n",
    "        loss_value, grads = eqx.filter_value_and_grad(loss)(model, x, y)\n",
    "        updates, opt_state = optim.update(grads, opt_state, model)\n",
    "        model = eqx.apply_updates(model, updates)\n",
    "        return model, opt_state, loss_value\n",
    "\n",
    "    # Loop over our training dataset as many times as we need.\n",
    "    def infinite_trainloader():\n",
    "        while True:\n",
    "            yield from trainloader\n",
    "\n",
    "    for step, (x, y) in zip(range(steps), infinite_trainloader()):\n",
    "        # PyTorch dataloaders give PyTorch tensors by default,\n",
    "        # so convert them to NumPy arrays.\n",
    "        x = x.numpy()\n",
    "        y = y.numpy()\n",
    "        model, opt_state, train_loss = make_step(model, opt_state, x, y)\n",
    "        if (step % print_every) == 0 or (step == steps - 1):\n",
    "            test_loss = evaluate(model, testloader)\n",
    "            print(\n",
    "                f\"{step}, train_loss={train_loss.item()}, test_loss={test_loss.item()}\"\n",
    "            )\n",
    "    return model"
   ]
  },
  {
   "cell_type": "code",
   "execution_count": 42,
   "id": "e7c18d4a",
   "metadata": {},
   "outputs": [
    {
     "name": "stdout",
     "output_type": "stream",
     "text": [
      "0, train_loss=15147.533203125, test_loss=15578.0703125\n",
      "30, train_loss=12812.1455078125, test_loss=12844.263671875\n",
      "60, train_loss=12932.6796875, test_loss=12728.06640625\n",
      "90, train_loss=13780.23828125, test_loss=12668.1640625\n",
      "120, train_loss=12963.267578125, test_loss=12656.1806640625\n",
      "150, train_loss=12216.443359375, test_loss=12720.783203125\n",
      "180, train_loss=11304.201171875, test_loss=12651.8193359375\n",
      "210, train_loss=12179.1328125, test_loss=12663.41015625\n",
      "240, train_loss=12372.5595703125, test_loss=12647.3916015625\n",
      "270, train_loss=11783.666015625, test_loss=12659.9921875\n",
      "299, train_loss=12628.9033203125, test_loss=12662.6572265625\n"
     ]
    }
   ],
   "source": [
    "model = train(model, train_loader, test_loader, optim, STEPS, PRINT_EVERY)"
   ]
  },
  {
   "cell_type": "code",
   "execution_count": 46,
   "id": "71b62f0e",
   "metadata": {},
   "outputs": [],
   "source": [
    "def infinite_trainloader():\n",
    "    while True:\n",
    "        yield from train_loader"
   ]
  },
  {
   "cell_type": "code",
   "execution_count": 24,
   "id": "0287fa20",
   "metadata": {},
   "outputs": [],
   "source": [
    "x_batch, y_batch = next(iter(train_loader))"
   ]
  },
  {
   "cell_type": "code",
   "execution_count": 25,
   "id": "63a137b8",
   "metadata": {},
   "outputs": [],
   "source": [
    "x_batch = x_batch.numpy()\n",
    "y_batch = y_batch.numpy()"
   ]
  },
  {
   "cell_type": "code",
   "execution_count": 54,
   "id": "a1c2c12b",
   "metadata": {},
   "outputs": [],
   "source": [
    "y_pred = model(x_batch)"
   ]
  },
  {
   "cell_type": "code",
   "execution_count": 55,
   "id": "9ed7973d",
   "metadata": {},
   "outputs": [
    {
     "data": {
      "text/plain": [
       "<matplotlib.image.AxesImage at 0x1543f6a50>"
      ]
     },
     "execution_count": 55,
     "metadata": {},
     "output_type": "execute_result"
    },
    {
     "data": {
      "image/png": "[encoded data removed]",
      "text/plain": [
       "<Figure size 1600x1000 with 1 Axes>"
      ]
     },
     "metadata": {
      "image/png": {
       "height": 820,
       "width": 824
      }
     },
     "output_type": "display_data"
    }
   ],
   "source": [
    "plt.imshow(y_pred[0,0,0,:,:])"
   ]
  },
  {
   "cell_type": "code",
   "execution_count": 57,
   "id": "2b13df7a",
   "metadata": {},
   "outputs": [
    {
     "data": {
      "text/plain": [
       "<matplotlib.image.AxesImage at 0x1623a72d0>"
      ]
     },
     "execution_count": 57,
     "metadata": {},
     "output_type": "execute_result"
    },
    {
     "data": {
      "image/png": "[encoded data removed]",
      "text/plain": [
       "<Figure size 1600x1000 with 1 Axes>"
      ]
     },
     "metadata": {
      "image/png": {
       "height": 820,
       "width": 824
      }
     },
     "output_type": "display_data"
    }
   ],
   "source": [
    "plt.imshow(y_batch[0,0,0,:,:])"
   ]
  },
  {
   "cell_type": "code",
   "execution_count": null,
   "id": "1ffe53ab",
   "metadata": {},
   "outputs": [],
   "source": []
  }
 ],
 "metadata": {
  "kernelspec": {
   "display_name": "Python 3 (ipykernel)",
   "language": "python",
   "name": "python3"
  },
  "language_info": {
   "codemirror_mode": {
    "name": "ipython",
    "version": 3
   },
   "file_extension": ".py",
   "mimetype": "text/x-python",
   "name": "python",
   "nbconvert_exporter": "python",
   "pygments_lexer": "ipython3",
   "version": "3.11.1"
  }
 },
 "nbformat": 4,
 "nbformat_minor": 5
}
